{
 "cells": [
  {
   "cell_type": "code",
   "execution_count": 3,
   "id": "4d227ab1-5e0f-47cd-9778-2e7534503924",
   "metadata": {},
   "outputs": [
    {
     "name": "stdout",
     "output_type": "stream",
     "text": [
      "5 + 3 = 8\n",
      "5 - 3 = 2\n",
      "5 * 3 = 15\n",
      "5 / 3 = 1.6666666666666667\n"
     ]
    }
   ],
   "source": [
    "class Calculator:\n",
    "    def add(self, a, b):\n",
    "        return a + b\n",
    "    def subtract(self, a, b):\n",
    "        return a - b\n",
    "\n",
    "    def multiply(self, a, b):\n",
    "        return a * b\n",
    "\n",
    "    def divide(self, a, b):\n",
    "        if b == 0:\n",
    "            print(\"Cannot divide by zero.\")\n",
    "        else :\n",
    "          return a / b\n",
    "calc = Calculator()\n",
    "print(\"5 + 3 =\", calc.add(5, 3))\n",
    "print(\"5 - 3 =\", calc.subtract(5, 3))\n",
    "print(\"5 * 3 =\", calc.multiply(5, 3))\n",
    "print(\"5 / 3 =\", calc.divide(5, 3))\n"
   ]
  },
  {
   "cell_type": "code",
   "execution_count": 5,
   "id": "f2236a34-d922-4701-be4d-d41f7d82768c",
   "metadata": {},
   "outputs": [
    {
     "name": "stdout",
     "output_type": "stream",
     "text": [
      "Length: 5\n",
      "Width: 3\n",
      "Perimeter: 16\n",
      "Area: 15\n",
      "Volume of Parallelepiped: 60\n"
     ]
    }
   ],
   "source": [
    "class Rectangle:\n",
    "    def __init__(self, length, width):\n",
    "        self.length = length\n",
    "        self.width = width\n",
    "\n",
    "    def perimeter(self):\n",
    "        return 2 * (self.length + self.width)\n",
    "\n",
    "    def area(self):\n",
    "        return self.length * self.width\n",
    "\n",
    "    def display(self):\n",
    "        print(f\"Length: {self.length}\")\n",
    "        print(f\"Width: {self.width}\")\n",
    "        print(f\"Perimeter: {self.perimeter()}\")\n",
    "        print(f\"Area: {self.area()}\")\n",
    "\n",
    "class Parallelepiped(Rectangle):\n",
    "    def __init__(self, length, width, height):\n",
    "        super().__init__(length, width)\n",
    "        self.height = height\n",
    "\n",
    "    def volume(self):\n",
    "        return self.area() * self.height\n",
    "\n",
    "rect = Rectangle(5, 3)\n",
    "rect.display()\n",
    "\n",
    "parallelepiped = Parallelepiped(5, 3, 4)\n",
    "print(\"Volume of Parallelepiped:\", parallelepiped.volume())\n"
   ]
  },
  {
   "cell_type": "code",
   "execution_count": 7,
   "id": "bcb426ad-bc33-489b-889a-e0525a36644e",
   "metadata": {},
   "outputs": [
    {
     "name": "stdout",
     "output_type": "stream",
     "text": [
      "Name: Mohamed\n",
      "Age: 24\n",
      "Section: A1\n"
     ]
    }
   ],
   "source": [
    "class Person:\n",
    "    def __init__(self, name, age):\n",
    "        self.name = name\n",
    "        self.age = age\n",
    "\n",
    "    def display(self):\n",
    "        print(f\"Name: {self.name}\")\n",
    "        print(f\"Age: {self.age}\")\n",
    "\n",
    "class Student(Person):\n",
    "    def __init__(self, name, age, section):\n",
    "        super().__init__(name, age)\n",
    "        self.section = section\n",
    "\n",
    "    def displayStudent(self):\n",
    "        self.display()  \n",
    "        print(f\"Section: {self.section}\")\n",
    "        \n",
    "student = Student(\"Mohamed\", \"24\", \"A1\")\n",
    "student.displayStudent()\n"
   ]
  },
  {
   "cell_type": "code",
   "execution_count": null,
   "id": "2d3029a9-f994-4151-b68b-63e1772c8c71",
   "metadata": {},
   "outputs": [],
   "source": []
  }
 ],
 "metadata": {
  "kernelspec": {
   "display_name": "Python 3 (ipykernel)",
   "language": "python",
   "name": "python3"
  },
  "language_info": {
   "codemirror_mode": {
    "name": "ipython",
    "version": 3
   },
   "file_extension": ".py",
   "mimetype": "text/x-python",
   "name": "python",
   "nbconvert_exporter": "python",
   "pygments_lexer": "ipython3",
   "version": "3.12.7"
  }
 },
 "nbformat": 4,
 "nbformat_minor": 5
}
