{
 "cells": [
  {
   "cell_type": "code",
   "execution_count": 1,
   "id": "943fc29e-1901-4758-8a48-57302355150c",
   "metadata": {},
   "outputs": [
    {
     "name": "stdout",
     "output_type": "stream",
     "text": [
      "2\n",
      "4\n",
      "6\n",
      "8\n",
      "10\n",
      "12\n",
      "14\n",
      "16\n",
      "18\n",
      "20\n"
     ]
    }
   ],
   "source": [
    "def print_even_numbers():\n",
    "    for number in range(1, 21):\n",
    "        if number % 2 == 0:\n",
    "            print(number)\n",
    "\n",
    "print_even_numbers()\n"
   ]
  },
  {
   "cell_type": "code",
   "execution_count": 3,
   "id": "f36688b3-848a-4122-ab33-2c37411dde2a",
   "metadata": {},
   "outputs": [
    {
     "name": "stdout",
     "output_type": "stream",
     "text": [
      "Number of vowels: 6\n"
     ]
    }
   ],
   "source": [
    "def count_vowels(input_string):\n",
    "    vowels = set('aeiouAEIOU')\n",
    "    vowel_count = 0\n",
    "    for char in input_string:\n",
    "        if char in vowels:\n",
    "            vowel_count += 1\n",
    "    print(f\"Number of vowels: {vowel_count}\")\n",
    "count_vowels(\"My Name is Mohamed\")\n"
   ]
  },
  {
   "cell_type": "code",
   "execution_count": 5,
   "id": "b7d96352-cf6d-4d74-9b02-19a5e244f8e7",
   "metadata": {},
   "outputs": [
    {
     "name": "stdout",
     "output_type": "stream",
     "text": [
      "The largest number in the list is: 38\n"
     ]
    }
   ],
   "source": [
    "def find_largest_number(numbers):\n",
    "    if not numbers: \n",
    "        return \"The list is empty.\"\n",
    "    largest = numbers[0]\n",
    "    for number in numbers[1:]:  \n",
    "        if number > largest:\n",
    "            largest = number\n",
    "    return largest\n",
    "numbers_list = [5, 25, 8, 1, 9, 38]\n",
    "largest_number = find_largest_number(numbers_list)\n",
    "print(\"The largest number in the list is:\", largest_number)\n"
   ]
  },
  {
   "cell_type": "code",
   "execution_count": 11,
   "id": "c939abaf-f74e-462a-97e4-fa2574d60030",
   "metadata": {},
   "outputs": [
    {
     "name": "stdout",
     "output_type": "stream",
     "text": [
      "29 is a prime number.\n"
     ]
    }
   ],
   "source": [
    "def is_prime(n):\n",
    "    if n <= 1:\n",
    "        return False\n",
    "    for i in range(2, int(n**0.5) + 1):\n",
    "        if n % i == 0:\n",
    "            return False\n",
    "    return True\n",
    "number = 29\n",
    "if is_prime(number):\n",
    "    print(f\"{number} is a prime number.\")\n",
    "else:\n",
    "    print(f\"{number} is not a prime number.\")\n"
   ]
  },
  {
   "cell_type": "code",
   "execution_count": 13,
   "id": "cd213a71-4404-43dc-a0fb-044f181d0c4b",
   "metadata": {},
   "outputs": [
    {
     "name": "stdout",
     "output_type": "stream",
     "text": [
      "1\n",
      "2\n",
      "Fizz\n",
      "4\n",
      "Buzz\n",
      "Fizz\n",
      "7\n",
      "8\n",
      "Fizz\n",
      "Buzz\n",
      "11\n",
      "Fizz\n",
      "13\n",
      "14\n",
      "FizzBuzz\n",
      "16\n",
      "17\n",
      "Fizz\n",
      "19\n",
      "Buzz\n",
      "Fizz\n",
      "22\n",
      "23\n",
      "Fizz\n",
      "Buzz\n",
      "26\n",
      "Fizz\n",
      "28\n",
      "29\n",
      "FizzBuzz\n",
      "31\n",
      "32\n",
      "Fizz\n",
      "34\n",
      "Buzz\n",
      "Fizz\n",
      "37\n",
      "38\n",
      "Fizz\n",
      "Buzz\n",
      "41\n",
      "Fizz\n",
      "43\n",
      "44\n",
      "FizzBuzz\n",
      "46\n",
      "47\n",
      "Fizz\n",
      "49\n",
      "Buzz\n",
      "Fizz\n",
      "52\n",
      "53\n",
      "Fizz\n",
      "Buzz\n",
      "56\n",
      "Fizz\n",
      "58\n",
      "59\n",
      "FizzBuzz\n",
      "61\n",
      "62\n",
      "Fizz\n",
      "64\n",
      "Buzz\n",
      "Fizz\n",
      "67\n",
      "68\n",
      "Fizz\n",
      "Buzz\n",
      "71\n",
      "Fizz\n",
      "73\n",
      "74\n",
      "FizzBuzz\n",
      "76\n",
      "77\n",
      "Fizz\n",
      "79\n",
      "Buzz\n",
      "Fizz\n",
      "82\n",
      "83\n",
      "Fizz\n",
      "Buzz\n",
      "86\n",
      "Fizz\n",
      "88\n",
      "89\n",
      "FizzBuzz\n",
      "91\n",
      "92\n",
      "Fizz\n",
      "94\n",
      "Buzz\n",
      "Fizz\n",
      "97\n",
      "98\n",
      "Fizz\n",
      "Buzz\n"
     ]
    }
   ],
   "source": [
    "def fizz_buzz():\n",
    "    for number in range(1, 101): \n",
    "        if number % 3 == 0 and number % 5 == 0:\n",
    "            print(\"FizzBuzz\")\n",
    "        elif number % 3 == 0:\n",
    "            print(\"Fizz\")\n",
    "        elif number % 5 == 0:\n",
    "            print(\"Buzz\")\n",
    "        else:\n",
    "            print(number)\n",
    "fizz_buzz()\n"
   ]
  },
  {
   "cell_type": "code",
   "execution_count": 15,
   "id": "c582718a-22f7-4560-a260-7c3098a86764",
   "metadata": {},
   "outputs": [
    {
     "name": "stdout",
     "output_type": "stream",
     "text": [
      "Multiplication table for 27:\n",
      "27 x 1 = 27\n",
      "27 x 2 = 54\n",
      "27 x 3 = 81\n",
      "27 x 4 = 108\n",
      "27 x 5 = 135\n",
      "27 x 6 = 162\n",
      "27 x 7 = 189\n",
      "27 x 8 = 216\n",
      "27 x 9 = 243\n",
      "27 x 10 = 270\n"
     ]
    }
   ],
   "source": [
    "def print_multiplication_table(number):\n",
    "    for i in range(1, 11): \n",
    "        result = number * i\n",
    "        print(f\"{number} x {i} = {result}\")\n",
    "num = 27\n",
    "print(f\"Multiplication table for {num}:\")\n",
    "print_multiplication_table(num)\n"
   ]
  },
  {
   "cell_type": "code",
   "execution_count": 19,
   "id": "1c2fcfc8-3cb9-4ed0-b6e4-3e2705f312d6",
   "metadata": {},
   "outputs": [
    {
     "name": "stdout",
     "output_type": "stream",
     "text": [
      "Fibonacci sequence up to 10 numbers:\n",
      "0 1 1 2 3 5 8 13 21 34 \n"
     ]
    }
   ],
   "source": [
    "def print_fibonacci(n):\n",
    "    if n <= 0:\n",
    "        print(\"Please enter a positive integer greater than zero.\")\n",
    "    elif n == 1:\n",
    "        print(\"Fibonacci sequence up to 1 number:\")\n",
    "        print(\"0\")\n",
    "    else:\n",
    "        a, b = 0, 1\n",
    "        print(\"Fibonacci sequence up to\", n, \"numbers:\")\n",
    "        print(a, end=' ')\n",
    "        for _ in range(n - 1):\n",
    "            print(b, end=' ')\n",
    "            a, b = b, a + b\n",
    "        print()  \n",
    "print_fibonacci(10)\n"
   ]
  },
  {
   "cell_type": "code",
   "execution_count": 21,
   "id": "5c680764-cb5b-4645-a312-91006735a144",
   "metadata": {},
   "outputs": [
    {
     "name": "stdout",
     "output_type": "stream",
     "text": [
      "Original: Mohamed\n",
      "Reversed: demahoM\n"
     ]
    }
   ],
   "source": [
    "def reverse_string(input_string):\n",
    "    reversed_string = ''\n",
    "    length = len(input_string)\n",
    "    for i in range(length):\n",
    "        reversed_string += input_string[length - 1 - i]\n",
    "    return reversed_string\n",
    "original_string = \"Mohamed\"\n",
    "reversed_str = reverse_string(original_string)\n",
    "print(f\"Original: {original_string}\")\n",
    "print(f\"Reversed: {reversed_str}\")\n"
   ]
  },
  {
   "cell_type": "code",
   "execution_count": 25,
   "id": "3872de02-1075-4360-a482-9683c306bd42",
   "metadata": {},
   "outputs": [
    {
     "name": "stdout",
     "output_type": "stream",
     "text": [
      "Armstrong numbers between 1 and 1000:\n",
      "1\n",
      "2\n",
      "3\n",
      "4\n",
      "5\n",
      "6\n",
      "7\n",
      "8\n",
      "9\n",
      "153\n",
      "370\n",
      "371\n",
      "407\n"
     ]
    }
   ],
   "source": [
    "def print_armstrong_numbers():\n",
    "    for number in range(1, 1001):  # Check numbers from 1 to 1000\n",
    "        # Convert number to string to easily iterate over each digit\n",
    "        num_str = str(number)\n",
    "        num_digits = len(num_str)\n",
    "        sum_of_powers = 0\n",
    "        for digit in num_str:\n",
    "            sum_of_powers += int(digit) ** num_digits\n",
    "        if sum_of_powers == number:\n",
    "            print(number)\n",
    "print(\"Armstrong numbers between 1 and 1000:\")\n",
    "print_armstrong_numbers()"
   ]
  },
  {
   "cell_type": "code",
   "execution_count": 27,
   "id": "4e9a2d70-e24c-439a-882b-ebf878fa71a6",
   "metadata": {},
   "outputs": [
    {
     "name": "stdout",
     "output_type": "stream",
     "text": [
      "Character frequencies in 'My Name Is Mohamed Mahmoud Salem': {'M': 3, 'y': 1, ' ': 5, 'N': 1, 'a': 4, 'm': 4, 'e': 3, 'I': 1, 's': 1, 'o': 2, 'h': 2, 'd': 2, 'u': 1, 'S': 1, 'l': 1}\n"
     ]
    }
   ],
   "source": [
    "def character_frequency(input_string):\n",
    "    frequency = {}\n",
    "    for char in input_string:\n",
    "        if char in frequency:\n",
    "            frequency[char] += 1  \n",
    "        else:\n",
    "            frequency[char] = 1  \n",
    "    return frequency\n",
    "string = \"My Name Is Mohamed Mahmoud Salem\"\n",
    "freq = character_frequency(string)\n",
    "print(\"Character frequencies in '{}': {}\".format(string, freq))\n"
   ]
  },
  {
   "cell_type": "code",
   "execution_count": 29,
   "id": "ab1e1848-7bde-45d9-8d80-4be41935927e",
   "metadata": {},
   "outputs": [
    {
     "name": "stdout",
     "output_type": "stream",
     "text": [
      "'A man, a plan, a canal, Panama' is a palindrome.\n"
     ]
    }
   ],
   "source": [
    "def is_palindrome(input_string):\n",
    "    normalized_string = ''.join(char.lower() for char in input_string if char.isalnum())\n",
    "    return normalized_string == normalized_string[::-1]\n",
    "phrase = \"A man, a plan, a canal, Panama\"\n",
    "if is_palindrome(phrase):\n",
    "    print(f\"'{phrase}' is a palindrome.\")\n",
    "else:\n",
    "    print(f\"'{phrase}' is not a palindrome.\")\n"
   ]
  },
  {
   "cell_type": "code",
   "execution_count": 31,
   "id": "3ed02217-12c4-49c9-9c5a-0e667ada45ab",
   "metadata": {},
   "outputs": [
    {
     "name": "stdout",
     "output_type": "stream",
     "text": [
      "The factors of 100 are: [1, 2, 4, 5, 10, 20, 25, 50, 100]\n"
     ]
    }
   ],
   "source": [
    "def find_factors(number):\n",
    "    factors = []  \n",
    "    for i in range(1, number + 1):\n",
    "        if number % i == 0:\n",
    "            factors.append(i)\n",
    "    return factors\n",
    "num = 100\n",
    "factors_of_num = find_factors(num)\n",
    "print(f\"The factors of {num} are: {factors_of_num}\")\n"
   ]
  },
  {
   "cell_type": "code",
   "execution_count": 33,
   "id": "6ab750a8-d238-403a-add1-dcd827a1ce1d",
   "metadata": {},
   "outputs": [
    {
     "name": "stdout",
     "output_type": "stream",
     "text": [
      "28 is a perfect number.\n"
     ]
    }
   ],
   "source": [
    "def is_perfect(number):\n",
    "    if number < 1:\n",
    "        return False \n",
    "    sum_of_divisors = 0\n",
    "    for i in range(1, number):\n",
    "        if number % i == 0:\n",
    "            sum_of_divisors += i\n",
    "    return sum_of_divisors == number\n",
    "num = 28\n",
    "if is_perfect(num):\n",
    "    print(f\"{num} is a perfect number.\")\n",
    "else:\n",
    "    print(f\"{num} is not a perfect number.\")\n"
   ]
  },
  {
   "cell_type": "code",
   "execution_count": 35,
   "id": "a8b2b563-827d-4058-88c4-d7a4eaa0b145",
   "metadata": {},
   "outputs": [
    {
     "name": "stdout",
     "output_type": "stream",
     "text": [
      "Common elements: [4, 5, 6]\n"
     ]
    }
   ],
   "source": [
    "def find_common_elements(list1, list2):\n",
    "    set1 = set(list1)\n",
    "    set2 = set(list2)\n",
    "    common_elements = set1.intersection(set2)\n",
    "    return list(common_elements)\n",
    "list_a = [1, 2, 3, 4, 5, 6]\n",
    "list_b = [4, 5, 6, 7, 8, 9]\n",
    "common = find_common_elements(list_a, list_b)\n",
    "print(f\"Common elements: {common}\")\n"
   ]
  },
  {
   "cell_type": "code",
   "execution_count": 37,
   "id": "ec4174a3-cca2-44cb-b660-fbc177ffde00",
   "metadata": {},
   "outputs": [
    {
     "name": "stdout",
     "output_type": "stream",
     "text": [
      "Original text: Hello, World!\n",
      "Encrypted text: Khoor, Zruog!\n"
     ]
    }
   ],
   "source": [
    "def caesar_cipher(text, shift):\n",
    "    encrypted_text = \"\"\n",
    "    for char in text:\n",
    "        if char.isalpha():  \n",
    "            start = ord('A') if char.isupper() else ord('a')\n",
    "            offset = (ord(char) - start + shift) % 26\n",
    "            encrypted_text += chr(start + offset)\n",
    "        else:\n",
    "            encrypted_text += char\n",
    "    return encrypted_text\n",
    "original_text = \"Hello, World!\"\n",
    "shifted_by_3 = caesar_cipher(original_text, 3)\n",
    "print(\"Original text:\", original_text)\n",
    "print(\"Encrypted text:\", shifted_by_3)\n"
   ]
  },
  {
   "cell_type": "code",
   "execution_count": 39,
   "id": "9ff04ae2-2ca1-4484-b63c-50452f38763f",
   "metadata": {},
   "outputs": [
    {
     "name": "stdout",
     "output_type": "stream",
     "text": [
      "Sorted list in ascending order: [11, 12, 22, 25, 34, 64, 90]\n"
     ]
    }
   ],
   "source": [
    "def bubble_sort(numbers):\n",
    "    n = len(numbers)\n",
    "    for i in range(n):\n",
    "        for j in range(0, n-i-1):\n",
    "            if numbers[j] > numbers[j+1]:\n",
    "                numbers[j], numbers[j+1] = numbers[j+1], numbers[j]\n",
    "    return numbers\n",
    "numbers_list = [64, 34, 25, 12, 22, 11, 90]\n",
    "sorted_list = bubble_sort(numbers_list)\n",
    "print(\"Sorted list in ascending order:\", sorted_list)\n"
   ]
  },
  {
   "cell_type": "code",
   "execution_count": 45,
   "id": "2133ae56-81d4-4e7d-8ef6-0fa69f05f429",
   "metadata": {},
   "outputs": [
    {
     "name": "stdout",
     "output_type": "stream",
     "text": [
      "The missing number is 9\n"
     ]
    }
   ],
   "source": [
    "def find_missing_number(numbers, n):\n",
    "    expected_sum = n * (n + 1) // 2  \n",
    "    actual_sum = sum(numbers)        \n",
    "    missing_number = expected_sum - actual_sum \n",
    "    return missing_number\n",
    "numbers_list = [1, 2, 3, 4, 5, 6, 7, 8, 10]  \n",
    "n = 10 \n",
    "missing = find_missing_number(numbers_list, n)\n",
    "print(f\"The missing number is {missing}\")\n"
   ]
  },
  {
   "cell_type": "code",
   "execution_count": 49,
   "id": "4adf1c34-3247-4ae2-bef1-146983c9d102",
   "metadata": {},
   "outputs": [
    {
     "name": "stdout",
     "output_type": "stream",
     "text": [
      "The decimal value of the binary string 111101 is 61\n"
     ]
    }
   ],
   "source": [
    "def binary_to_decimal(binary_string):\n",
    "    try:\n",
    "        decimal_value = int(binary_string, 2)\n",
    "        return decimal_value\n",
    "    except ValueError:\n",
    "        return \"Invalid input. Please ensure the string contains only 0s and 1s.\"\n",
    "binary_str = \"111101\"  \n",
    "decimal_value = binary_to_decimal(binary_str)\n",
    "print(f\"The decimal value of the binary string {binary_str} is {decimal_value}\")\n"
   ]
  },
  {
   "cell_type": "code",
   "execution_count": null,
   "id": "4b081984-d7c8-46e4-8217-1c2d5c72f4b2",
   "metadata": {},
   "outputs": [],
   "source": []
  }
 ],
 "metadata": {
  "kernelspec": {
   "display_name": "Python 3 (ipykernel)",
   "language": "python",
   "name": "python3"
  },
  "language_info": {
   "codemirror_mode": {
    "name": "ipython",
    "version": 3
   },
   "file_extension": ".py",
   "mimetype": "text/x-python",
   "name": "python",
   "nbconvert_exporter": "python",
   "pygments_lexer": "ipython3",
   "version": "3.12.7"
  }
 },
 "nbformat": 4,
 "nbformat_minor": 5
}
