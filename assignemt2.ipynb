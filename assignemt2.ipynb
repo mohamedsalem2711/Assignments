{
 "cells": [
  {
   "cell_type": "markdown",
   "id": "67ed6b5f-8840-4bc6-8cd8-ee08ed698ab7",
   "metadata": {},
   "source": [
    "Tuble ex"
   ]
  },
  {
   "cell_type": "code",
   "execution_count": 47,
   "id": "0ec7d729-7209-4e66-8e14-08d38f71a52e",
   "metadata": {},
   "outputs": [
    {
     "name": "stdout",
     "output_type": "stream",
     "text": [
      "5\n"
     ]
    }
   ],
   "source": [
    "numbers_tuple = (1, 2, 3, 4, 5, 6, 7, 8, 9, 10)\n",
    "print(numbers_tuple[4])"
   ]
  },
  {
   "cell_type": "code",
   "execution_count": 45,
   "id": "2e1e3594-fb1f-4c90-8d90-7e1a47e49f2c",
   "metadata": {},
   "outputs": [
    {
     "name": "stdout",
     "output_type": "stream",
     "text": [
      "a = 1\n",
      "b = 2\n",
      "c = 3\n",
      "d = 4\n",
      "e = 5\n",
      "f = 6\n",
      "g = 7\n",
      "h = 8\n",
      "i = 9\n",
      "j = 10\n"
     ]
    }
   ],
   "source": [
    "numbers_tuple = (1, 2, 3, 4, 5, 6, 7, 8, 9, 10)\n",
    "(a, b, c, d, e, f, g, h, i, j) = numbers_tuple\n",
    "print(\"a =\", a)\n",
    "print(\"b =\", b)\n",
    "print(\"c =\", c)\n",
    "print(\"d =\", d)\n",
    "print(\"e =\", e)\n",
    "print(\"f =\", f)\n",
    "print(\"g =\", g)\n",
    "print(\"h =\", h)\n",
    "print(\"i =\", i)\n",
    "print(\"j =\", j)"
   ]
  },
  {
   "cell_type": "code",
   "execution_count": 43,
   "id": "88b5d9b5-1d31-4395-b7a8-7f0916ac7a7f",
   "metadata": {},
   "outputs": [
    {
     "name": "stdout",
     "output_type": "stream",
     "text": [
      "(1, 2, 11, 3, 4, 5, 6, 7, 8, 9, 10)\n"
     ]
    }
   ],
   "source": [
    "numbers_tuple = (1, 2, 3, 4, 5, 6, 7, 8, 9, 10)\n",
    "x = list(numbers_tuple)\n",
    "x.insert(2,11)\n",
    "numbers_tuple=tuple(x)\n",
    "print(numbers_tuple)"
   ]
  },
  {
   "cell_type": "code",
   "execution_count": 41,
   "id": "0e70abb0-83b1-46ca-9f10-f559093c66a2",
   "metadata": {},
   "outputs": [
    {
     "name": "stdout",
     "output_type": "stream",
     "text": [
      "exercises\n"
     ]
    }
   ],
   "source": [
    "char_tuple = ('e', 'x', 'e', 'r', 'c', 'i', 's', 'e', 's')\n",
    "result_string = ''.join(char_tuple)\n",
    "print(result_string)"
   ]
  },
  {
   "cell_type": "code",
   "execution_count": 39,
   "id": "39a9fede-ea83-4bdc-9f21-4d2364d3427c",
   "metadata": {},
   "outputs": [
    {
     "name": "stdout",
     "output_type": "stream",
     "text": [
      "{2: 3, 3: 3, 8: 2}\n"
     ]
    }
   ],
   "source": [
    "example_tuple = (1, 2, 3, 4, 2, 5, 6, 3, 3, 2, 7, 8, 8)\n",
    "occurrences = {}\n",
    "for item in example_tuple:\n",
    "    if item in occurrences:\n",
    "        occurrences[item] += 1\n",
    "    else:\n",
    "        occurrences[item] = 1\n",
    "repeated_items = {item: count for item, count in occurrences.items() if count > 1}\n",
    "print(repeated_items)"
   ]
  },
  {
   "cell_type": "code",
   "execution_count": 37,
   "id": "0de8ebae-e6da-4c49-9625-c52fa70a2cd0",
   "metadata": {},
   "outputs": [
    {
     "name": "stdout",
     "output_type": "stream",
     "text": [
      "(2, 3, 4, 5, 6)\n"
     ]
    }
   ],
   "source": [
    "example_tuple = (1, 2, 3, 4, 5, 6)\n",
    "temp_list = list(example_tuple)\n",
    "temp_list.pop(0)\n",
    "example_tuple = tuple(temp_list)\n",
    "print(example_tuple)"
   ]
  },
  {
   "cell_type": "code",
   "execution_count": 35,
   "id": "f1129813-cbc4-421b-9ff4-06cd62ccdd02",
   "metadata": {},
   "outputs": [
    {
     "name": "stdout",
     "output_type": "stream",
     "text": [
      "(6, 5, 4, 3, 2, 1)\n"
     ]
    }
   ],
   "source": [
    "example_tuple = (1, 2, 3, 4, 5, 6)\n",
    "reversed_tuple = example_tuple[::-1]\n",
    "print(reversed_tuple)"
   ]
  },
  {
   "cell_type": "code",
   "execution_count": 33,
   "id": "855944f1-2c2a-4b97-8902-e6bd91a07139",
   "metadata": {},
   "outputs": [
    {
     "name": "stdout",
     "output_type": "stream",
     "text": [
      "[(1, 2, 100), (4, 5, 100), (7, 8, 100)]\n"
     ]
    }
   ],
   "source": [
    "list_of_tuples = [(1, 2, 3), (4, 5, 6), (7, 8, 9)]\n",
    "new_last_value = 100\n",
    "new_list_of_tuples = [t[:-1] + (new_last_value,) for t in list_of_tuples]\n",
    "print(new_list_of_tuples)"
   ]
  },
  {
   "cell_type": "markdown",
   "id": "84443899-977a-4867-8e3c-604014914fd0",
   "metadata": {},
   "source": [
    "List exc."
   ]
  },
  {
   "cell_type": "code",
   "execution_count": 1,
   "id": "c84cbf76-f0fd-4841-af30-3f2dd188e36c",
   "metadata": {},
   "outputs": [
    {
     "name": "stdout",
     "output_type": "stream",
     "text": [
      "['apple', 'mango', 'banana']\n"
     ]
    }
   ],
   "source": [
    "list_fav = ['apple' , 'mango'] \n",
    "list_fav.append('banana')\n",
    "print(list_fav)"
   ]
  },
  {
   "cell_type": "code",
   "execution_count": 3,
   "id": "d660db72-20ff-4e44-bf99-6770118fff9b",
   "metadata": {},
   "outputs": [
    {
     "name": "stdout",
     "output_type": "stream",
     "text": [
      "[1, 2, 3, 4, 5, 6, 7, 8, 9, 10]\n"
     ]
    }
   ],
   "source": [
    "list1 = [1, 2, 3, 4, 5]\n",
    "list2 = [6, 7, 8, 9, 10]\n",
    "list1.extend(list2)\n",
    "print(list1)"
   ]
  },
  {
   "cell_type": "code",
   "execution_count": 5,
   "id": "06f0807c-58ff-47df-9beb-22bf9897aa2c",
   "metadata": {},
   "outputs": [
    {
     "name": "stdout",
     "output_type": "stream",
     "text": [
      "['red', 'orange', 'blue', 'green', 'yellow']\n"
     ]
    }
   ],
   "source": [
    "colors = [\"red\", \"blue\", \"green\", \"yellow\"]\n",
    "colors.insert(1, \"orange\")\n",
    "print(colors)"
   ]
  },
  {
   "cell_type": "code",
   "execution_count": 31,
   "id": "4d8702bc-780b-40d3-abd9-5eb7f38f8712",
   "metadata": {},
   "outputs": [
    {
     "name": "stdout",
     "output_type": "stream",
     "text": [
      "['Cairo', 'Aswan', 'Alex', 'Port Said']\n"
     ]
    }
   ],
   "source": [
    "cities = [\"Cairo\", \"Alex\", \"Aswan\", \"Alex\", \"Port Said\"]\n",
    "cities.remove(\"Alex\")\n",
    "print (cities)"
   ]
  },
  {
   "cell_type": "code",
   "execution_count": 11,
   "id": "b850a203-e204-47a4-83aa-97a9c45f9f1f",
   "metadata": {},
   "outputs": [
    {
     "name": "stdout",
     "output_type": "stream",
     "text": [
      "['Dog', 'Cat', 'Elephant', 'Lion']\n",
      "Rabbit\n"
     ]
    }
   ],
   "source": [
    "favorite_animals = [\"Dog\", \"Cat\", \"Rabbit\", \"Elephant\", \"Lion\"]\n",
    "removed_animal = favorite_animals.pop(2)  \n",
    "print (favorite_animals)\n",
    "print (removed_animal)"
   ]
  },
  {
   "cell_type": "code",
   "execution_count": 15,
   "id": "64db5619-9bd5-4ab4-bfd4-c019756a7b8c",
   "metadata": {},
   "outputs": [
    {
     "name": "stdout",
     "output_type": "stream",
     "text": [
      "[]\n"
     ]
    }
   ],
   "source": [
    "random_numbers = [5, 17, 22, 39, 42, 58]\n",
    "random_numbers.clear()\n",
    "print (random_numbers)"
   ]
  },
  {
   "cell_type": "code",
   "execution_count": null,
   "id": "ca523a82-a228-44e4-ac7d-f508a202b0b8",
   "metadata": {},
   "outputs": [],
   "source": [
    "Dictonary exc"
   ]
  },
  {
   "cell_type": "code",
   "execution_count": 17,
   "id": "0e58c973-10ff-43a0-9566-31ec78d9e3d7",
   "metadata": {},
   "outputs": [
    {
     "data": {
      "text/plain": [
       "'Paris'"
      ]
     },
     "execution_count": 17,
     "metadata": {},
     "output_type": "execute_result"
    }
   ],
   "source": [
    "capitals = {\n",
    "    \"United States\": \"Washington D.C.\",\n",
    "    \"Canada\": \"Ottawa\",\n",
    "    \"Germany\": \"Berlin\",\n",
    "    \"Italy\": \"Rome\",\n",
    "    \"France\" :\"Paris\"\n",
    "}\n",
    "capital_france = capitals.get(\"France\")\n",
    "capital_france\n"
   ]
  },
  {
   "cell_type": "code",
   "execution_count": 23,
   "id": "86ece07c-e6ec-43dc-95a5-f66edf6ebb68",
   "metadata": {},
   "outputs": [
    {
     "name": "stdout",
     "output_type": "stream",
     "text": [
      "['Python', 'JavaScript', 'Java', 'Ruby']\n",
      "[['Django', 'Flask', 'Pyramid'], ['React', 'Vue', 'Angular'], ['Spring', 'Hibernate', 'Struts'], ['Rails', 'Sinatra']]\n"
     ]
    }
   ],
   "source": [
    "programming_languages = {\n",
    "    \"Python\": [\"Django\", \"Flask\", \"Pyramid\"],\n",
    "    \"JavaScript\": [\"React\", \"Vue\", \"Angular\"],\n",
    "    \"Java\": [\"Spring\", \"Hibernate\", \"Struts\"],\n",
    "    \"Ruby\": [\"Rails\", \"Sinatra\"]\n",
    "}\n",
    "languages_list = list(programming_languages.keys())\n",
    "frameworks_list = list(programming_languages.values())\n",
    "print (languages_list)\n",
    "print (frameworks_list)"
   ]
  },
  {
   "cell_type": "code",
   "execution_count": 25,
   "id": "da7e36e9-8972-4c55-bd34-0eb3c4ec0cf0",
   "metadata": {},
   "outputs": [
    {
     "data": {
      "text/plain": [
       "[('Milk', 3.5), ('Bread', 2.25), ('Eggs', 4.99), ('Cheese', 5.75)]"
      ]
     },
     "execution_count": 25,
     "metadata": {},
     "output_type": "execute_result"
    }
   ],
   "source": [
    "item_prices = {\n",
    "    \"Milk\": 3.50,\n",
    "    \"Bread\": 2.25,\n",
    "    \"Eggs\": 4.99,\n",
    "    \"Cheese\": 5.75\n",
    "}\n",
    "items_list = list(item_prices.items())\n",
    "items_list\n"
   ]
  },
  {
   "cell_type": "code",
   "execution_count": 27,
   "id": "9dff08d2-c9c6-4837-8928-262c919a534d",
   "metadata": {},
   "outputs": [
    {
     "data": {
      "text/plain": [
       "{'Apple': 1.2, 'Banana': 0.5, 'Orange': 0.8, 'Grapes': 2.0}"
      ]
     },
     "execution_count": 27,
     "metadata": {},
     "output_type": "execute_result"
    }
   ],
   "source": [
    "fruit_prices = {\n",
    "    \"Apple\": 1.20,\n",
    "    \"Banana\": 0.50\n",
    "}\n",
    "more_fruit_prices = {\n",
    "    \"Orange\": 0.80,\n",
    "    \"Grapes\": 2.00\n",
    "}\n",
    "fruit_prices.update(more_fruit_prices)\n",
    "fruit_prices\n"
   ]
  },
  {
   "cell_type": "code",
   "execution_count": 29,
   "id": "0b6872c1-7797-439a-8517-897a662c74d0",
   "metadata": {},
   "outputs": [
    {
     "data": {
      "text/plain": [
       "({'Alice': 88, 'Bob': 92, 'Dave': 85}, 77)"
      ]
     },
     "execution_count": 29,
     "metadata": {},
     "output_type": "execute_result"
    }
   ],
   "source": [
    "students = {\n",
    "    \"Alice\": 88,\n",
    "    \"Bob\": 92,\n",
    "    \"Carol\": 77,\n",
    "    \"Dave\": 85\n",
    "}\n",
    "carol_grade = students.pop(\"Carol\")\n",
    "students, carol_grade\n"
   ]
  },
  {
   "cell_type": "code",
   "execution_count": null,
   "id": "67f2599c-cdb3-4c94-be56-4c2bf32d2373",
   "metadata": {},
   "outputs": [],
   "source": [
    "sample_data = {\n",
    "    \"key1\": \"value1\",\n",
    "    \"key2\": \"value2\",\n",
    "    \"key3\": \"value3\"\n",
    "}\n",
    "sample_data.clear()\n",
    "sample_data\n"
   ]
  }
 ],
 "metadata": {
  "kernelspec": {
   "display_name": "Python 3 (ipykernel)",
   "language": "python",
   "name": "python3"
  },
  "language_info": {
   "codemirror_mode": {
    "name": "ipython",
    "version": 3
   },
   "file_extension": ".py",
   "mimetype": "text/x-python",
   "name": "python",
   "nbconvert_exporter": "python",
   "pygments_lexer": "ipython3",
   "version": "3.12.7"
  }
 },
 "nbformat": 4,
 "nbformat_minor": 5
}
