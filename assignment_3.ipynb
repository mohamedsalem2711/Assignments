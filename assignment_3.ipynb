{
 "cells": [
  {
   "cell_type": "code",
   "execution_count": 1,
   "id": "9b163972-878d-4991-bcef-9f223562e94d",
   "metadata": {},
   "outputs": [
    {
     "name": "stdout",
     "output_type": "stream",
     "text": [
      "(1, 2, 3, 4)\n"
     ]
    }
   ],
   "source": [
    "my_tuple = (1, 2, 3)\n",
    "my_list = list(my_tuple)\n",
    "my_list.append(4)\n",
    "my_tuple = tuple(my_list)\n",
    "print(my_tuple)"
   ]
  },
  {
   "cell_type": "code",
   "execution_count": 3,
   "id": "4e025084-fb9a-479c-8dbd-865d72ebc167",
   "metadata": {},
   "outputs": [
    {
     "name": "stdout",
     "output_type": "stream",
     "text": [
      "The sum of all the items is: 150\n"
     ]
    }
   ],
   "source": [
    "numbers = [10, 20, 30, 40, 50]\n",
    "total = sum(numbers)\n",
    "print(\"The sum of all the items is:\", total)"
   ]
  },
  {
   "cell_type": "code",
   "execution_count": 5,
   "id": "5b2b18a1-3ed3-4543-8b80-25aa4ade6734",
   "metadata": {},
   "outputs": [
    {
     "name": "stdout",
     "output_type": "stream",
     "text": [
      "The product of all the items is: 120\n"
     ]
    }
   ],
   "source": [
    "numbers = [1, 2, 3, 4, 5]\n",
    "product = 1\n",
    "for number in numbers:\n",
    "    product *= number\n",
    "print(\"The product of all the items is:\", product)"
   ]
  },
  {
   "cell_type": "code",
   "execution_count": 7,
   "id": "329702cb-53ff-4c71-8be6-f3c9f44e204a",
   "metadata": {},
   "outputs": [
    {
     "name": "stdout",
     "output_type": "stream",
     "text": [
      "The smallest number in the list is: 1\n"
     ]
    }
   ],
   "source": [
    "numbers = [5, 1, 8, 3, 2]\n",
    "smallest_number = min(numbers)\n",
    "print(\"The smallest number in the list is:\", smallest_number)"
   ]
  },
  {
   "cell_type": "code",
   "execution_count": 9,
   "id": "6badb5d1-1217-4798-842c-65adbf60458d",
   "metadata": {},
   "outputs": [
    {
     "name": "stdout",
     "output_type": "stream",
     "text": [
      "The largest number in the list is: 8\n"
     ]
    }
   ],
   "source": [
    "numbers = [5, 1, 8, 3, 2]\n",
    "largest_number = max(numbers)\n",
    "print(\"The largest number in the list is:\", largest_number)"
   ]
  },
  {
   "cell_type": "code",
   "execution_count": 11,
   "id": "6fc8d417-901d-4b88-b5c4-05c3382eaa72",
   "metadata": {},
   "outputs": [
    {
     "name": "stdout",
     "output_type": "stream",
     "text": [
      "Total number of strings in the list: 5\n"
     ]
    }
   ],
   "source": [
    "strings = [\"hello\", \"hi\", \"welcome\", \"world\", \"ok\"]\n",
    "total_strings = len(strings)\n",
    "print(\"Total number of strings in the list:\", total_strings)"
   ]
  },
  {
   "cell_type": "code",
   "execution_count": 13,
   "id": "de2eeae8-e20b-41d0-920c-4b2cc9f2d102",
   "metadata": {},
   "outputs": [
    {
     "name": "stdout",
     "output_type": "stream",
     "text": [
      "Original List: [1, 2, 3, 4, 5]\n",
      "Cloned List using copy(): [1, 2, 3, 4, 5]\n"
     ]
    }
   ],
   "source": [
    "original_list = [1, 2, 3, 4, 5]\n",
    "cloned_list = original_list.copy()\n",
    "print(\"Original List:\", original_list)\n",
    "print(\"Cloned List using copy():\", cloned_list)"
   ]
  },
  {
   "cell_type": "code",
   "execution_count": 15,
   "id": "4411d2a6-30b2-4aa1-a383-91c50c96f917",
   "metadata": {},
   "outputs": [
    {
     "name": "stdout",
     "output_type": "stream",
     "text": [
      "Set after removing 3: {1, 2, 4, 5}\n"
     ]
    }
   ],
   "source": [
    "my_set = {1, 2, 3, 4, 5}\n",
    "my_set.remove(3)  \n",
    "print(\"Set after removing 3:\", my_set)"
   ]
  },
  {
   "cell_type": "code",
   "execution_count": 17,
   "id": "b8cd1da3-b593-4307-a381-20825d3d834a",
   "metadata": {},
   "outputs": [
    {
     "name": "stdout",
     "output_type": "stream",
     "text": [
      "Is set_a a subset of set_b? True\n"
     ]
    }
   ],
   "source": [
    "set_a = {1, 2, 3}\n",
    "set_b = {1, 2, 3, 4, 5}\n",
    "is_subset = set_a.issubset(set_b)\n",
    "print(\"Is set_a a subset of set_b?\", is_subset)"
   ]
  },
  {
   "cell_type": "code",
   "execution_count": 19,
   "id": "7c95387a-0d67-40a7-b2aa-19ac624b5698",
   "metadata": {},
   "outputs": [
    {
     "name": "stdout",
     "output_type": "stream",
     "text": [
      "Original Set: {1, 2, 3, 4, 5}\n",
      "Set after clearing: set()\n"
     ]
    }
   ],
   "source": [
    "my_set = {1, 2, 3, 4, 5}\n",
    "print(\"Original Set:\", my_set)\n",
    "my_set.clear()\n",
    "print(\"Set after clearing:\", my_set)"
   ]
  },
  {
   "cell_type": "code",
   "execution_count": 21,
   "id": "b9074e16-9fc6-4d4b-9423-fdaef74890a7",
   "metadata": {},
   "outputs": [
    {
     "name": "stdout",
     "output_type": "stream",
     "text": [
      "Maximum value in the set is: 50\n",
      "Minimum value in the set is: 10\n"
     ]
    }
   ],
   "source": [
    "numbers_set = {10, 20, 30, 40, 50}\n",
    "max_value = max(numbers_set)\n",
    "min_value = min(numbers_set)\n",
    "print(\"Maximum value in the set is:\", max_value)\n",
    "print(\"Minimum value in the set is:\", min_value)"
   ]
  },
  {
   "cell_type": "code",
   "execution_count": 23,
   "id": "1fe33274-9a30-4326-afed-1c89c25dac61",
   "metadata": {},
   "outputs": [
    {
     "name": "stdout",
     "output_type": "stream",
     "text": [
      "The index of 'cherry' is: 2\n"
     ]
    }
   ],
   "source": [
    "my_tuple = ('apple', 'banana', 'cherry', 'date')\n",
    "index_of_cherry = my_tuple.index('cherry')\n",
    "print(\"The index of 'cherry' is:\", index_of_cherry)"
   ]
  },
  {
   "cell_type": "code",
   "execution_count": 25,
   "id": "c1f92dcb-d987-41c1-8181-1f0d20b6c502",
   "metadata": {},
   "outputs": [
    {
     "name": "stdout",
     "output_type": "stream",
     "text": [
      "Converted dictionary: {'key1': 'value1', 'key2': 'value2', 'key3': 'value3'}\n"
     ]
    }
   ],
   "source": [
    "tuple_of_pairs = (('key1', 'value1'), ('key2', 'value2'), ('key3', 'value3'))\n",
    "resulting_dict = dict(tuple_of_pairs)\n",
    "print(\"Converted dictionary:\", resulting_dict)"
   ]
  },
  {
   "cell_type": "code",
   "execution_count": 27,
   "id": "6b2be833-3f6b-4bad-93ec-b88ea46e91f2",
   "metadata": {},
   "outputs": [
    {
     "name": "stdout",
     "output_type": "stream",
     "text": [
      "Numbers: [1, 2, 3]\n",
      "Fruits: ['apple', 'banana', 'cherry']\n"
     ]
    }
   ],
   "source": [
    "list_of_tuples = [(1, 'apple'), (2, 'banana'), (3, 'cherry')]\n",
    "numbers, fruits = zip(*list_of_tuples)\n",
    "print(\"Numbers:\", list(numbers))\n",
    "print(\"Fruits:\", list(fruits))"
   ]
  },
  {
   "cell_type": "code",
   "execution_count": 29,
   "id": "dd4ac3dd-3ce8-4ed1-8b03-553d2da343f8",
   "metadata": {},
   "outputs": [
    {
     "name": "stdout",
     "output_type": "stream",
     "text": [
      "Reversed Tuple: (5, 4, 3, 2, 1)\n"
     ]
    }
   ],
   "source": [
    "original_tuple = (1, 2, 3, 4, 5)\n",
    "reversed_tuple = original_tuple[::-1]\n",
    "print(\"Reversed Tuple:\", reversed_tuple)"
   ]
  },
  {
   "cell_type": "code",
   "execution_count": 31,
   "id": "d6e5e8ab-74b0-4c0e-8507-063e2c4b9aa4",
   "metadata": {},
   "outputs": [
    {
     "name": "stdout",
     "output_type": "stream",
     "text": [
      "Converted dictionary: {'key1': 'value1', 'key2': 'value2', 'key3': 'value3'}\n"
     ]
    }
   ],
   "source": [
    "list_of_tuples = [('key1', 'value1'), ('key2', 'value2'), ('key3', 'value3')]\n",
    "resulting_dict = dict(list_of_tuples)\n",
    "print(\"Converted dictionary:\", resulting_dict)"
   ]
  },
  {
   "cell_type": "code",
   "execution_count": 33,
   "id": "338d9384-0402-4398-8d57-36201afc2be4",
   "metadata": {},
   "outputs": [
    {
     "name": "stdout",
     "output_type": "stream",
     "text": [
      "Sorted Tuple List: [('item2', 1.22), ('item4', 4.56), ('item1', 10.75), ('item3', 23.45)]\n"
     ]
    }
   ],
   "source": [
    "tuple_list = [('item1', 10.75), ('item2', 1.22), ('item3', 23.45), ('item4', 4.56)]\n",
    "sorted_tuple_list = sorted(tuple_list, key=lambda x: x[1])\n",
    "print(\"Sorted Tuple List:\", sorted_tuple_list)"
   ]
  },
  {
   "cell_type": "code",
   "execution_count": null,
   "id": "e3e50ee2-c561-4319-8bd1-3ad394e54cc4",
   "metadata": {},
   "outputs": [],
   "source": []
  }
 ],
 "metadata": {
  "kernelspec": {
   "display_name": "Python 3 (ipykernel)",
   "language": "python",
   "name": "python3"
  },
  "language_info": {
   "codemirror_mode": {
    "name": "ipython",
    "version": 3
   },
   "file_extension": ".py",
   "mimetype": "text/x-python",
   "name": "python",
   "nbconvert_exporter": "python",
   "pygments_lexer": "ipython3",
   "version": "3.12.7"
  }
 },
 "nbformat": 4,
 "nbformat_minor": 5
}
